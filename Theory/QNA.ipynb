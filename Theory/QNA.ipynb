{
 "cells": [
  {
   "cell_type": "markdown",
   "metadata": {},
   "source": [
    "# What is React?"
   ]
  },
  {
   "cell_type": "markdown",
   "metadata": {},
   "source": [
    "React is a JavaScript library for building user interfaces, primarily for single-page applications. It allows developers to create reusable UI components, manage the state of those components, and efficiently update and render the right components when data changes. React was developed by Facebook and is maintained by Facebook and a community of individual developers and companies. It uses a virtual DOM to improve performance and provides a declarative way to describe the UI."
   ]
  },
  {
   "cell_type": "markdown",
   "metadata": {},
   "source": [
    "# What is the history behind React evolution?"
   ]
  },
  {
   "cell_type": "markdown",
   "metadata": {},
   "source": [
    "React was created by Jordan Walke, a software engineer at Facebook. Here is a brief history of its evolution:\n",
    "\n",
    "1. **2011**: Jordan Walke created the initial prototype of React, which was called \"FaxJS\" at the time. It was used internally at Facebook.\n",
    "2. **2012**: React was first deployed on Facebook's newsfeed.\n",
    "3. **2013**: React was open-sourced at JSConf US. This marked its public release and the beginning of its adoption by the developer community.\n",
    "4. **2014**: React Native was announced, allowing developers to use React to build mobile applications for iOS and Android.\n",
    "5. **2015**: React 0.14 was released, introducing significant changes like splitting React and ReactDOM into separate libraries.\n",
    "6. **2016**: React Fiber, a complete rewrite of the React core algorithm, was announced to improve the performance and capabilities of React.\n",
    "7. **2017**: React 16 (React Fiber) was released, bringing major improvements in performance and new features like error boundaries and the ability to return arrays and strings from components.\n",
    "8. **2018**: React Hooks were introduced in React 16.8, allowing developers to use state and other React features without writing a class.\n",
    "9. **2020**: React 17 was released, focusing on making it easier to upgrade React itself.\n",
    "10. **2022**: React 18 was released, introducing concurrent rendering and other performance improvements.\n",
    "\n",
    "React continues to evolve with contributions from the community and ongoing development by Facebook."
   ]
  },
  {
   "cell_type": "markdown",
   "metadata": {},
   "source": [
    "# What are the major features of React?"
   ]
  },
  {
   "cell_type": "markdown",
   "metadata": {},
   "source": [
    "React has several major features that make it a popular choice for building user interfaces:\n",
    "\n",
    "1. **Component-Based Architecture**: React allows developers to build encapsulated components that manage their own state and compose them to create complex UIs.\n",
    "\n",
    "2. **Virtual DOM**: React uses a virtual DOM to optimize updates and rendering. When the state of an object changes, React updates the virtual DOM first, then efficiently updates the real DOM.\n",
    "\n",
    "3. **Declarative UI**: React enables developers to describe what the UI should look like for any given state, and React will handle the rendering and updating of the UI when the state changes.\n",
    "\n",
    "4. **JSX**: JSX is a syntax extension for JavaScript that looks similar to HTML. It allows developers to write HTML-like code within JavaScript, making it easier to create and understand the structure of the UI.\n",
    "\n",
    "5. **Unidirectional Data Flow**: React enforces a one-way data flow, making it easier to understand how data changes in the application. This helps in debugging and maintaining the application.\n",
    "\n",
    "6. **Lifecycle Methods**: React provides lifecycle methods that allow developers to hook into different stages of a component's life (e.g., mounting, updating, unmounting) to perform specific actions.\n",
    "\n",
    "7. **Hooks**: Introduced in React 16.8, hooks allow developers to use state and other React features in functional components, making it easier to reuse logic across components.\n",
    "\n",
    "8. **Context API**: The Context API allows for the sharing of state across the entire application or part of it without passing props down manually at every level.\n",
    "\n",
    "9. **React Router**: Although not part of the core React library, React Router is commonly used for handling routing in React applications, enabling navigation between different views or pages.\n",
    "\n",
    "10. **React Native**: React Native allows developers to build mobile applications using React, sharing a significant portion of the codebase between web and mobile platforms.\n",
    "\n",
    "These features collectively make React a powerful and flexible library for building modern web applications."
   ]
  },
  {
   "cell_type": "markdown",
   "metadata": {},
   "source": [
    "# What is JSX?"
   ]
  },
  {
   "cell_type": "markdown",
   "metadata": {},
   "source": [
    "JSX (JavaScript XML) is a syntax extension for JavaScript that allows developers to write HTML-like code within JavaScript. It is used with React to describe what the UI should look like. JSX makes it easier to create and understand the structure of the UI by combining the power of JavaScript with the readability of HTML.\n",
    "\n",
    "### Key Features of JSX:\n",
    "\n",
    "1. **HTML-like Syntax**: JSX looks similar to HTML, making it intuitive for developers who are familiar with HTML.\n",
    "2. **Embedding JavaScript**: You can embed JavaScript expressions within JSX using curly braces `{}`.\n",
    "3. **Component Integration**: JSX allows you to easily integrate React components, making it straightforward to compose complex UIs.\n",
    "4. **Type Safety**: JSX can be type-checked, which helps catch errors early in the development process.\n",
    "5. **Transpilation**: JSX is not valid JavaScript, so it needs to be transpiled to JavaScript using tools like Babel before it can be executed by the browser.\n",
    "\n",
    "### Example of JSX:\n",
    "\n"
   ]
  },
  {
   "cell_type": "code",
   "execution_count": null,
   "metadata": {
    "vscode": {
     "languageId": "jsx"
    }
   },
   "outputs": [],
   "source": [
    "import React from 'react';\n",
    "\n",
    "function Greeting(props) {\n",
    "  return <h1>Hello, {props.name}!</h1>;\n",
    "}\n",
    "\n",
    "function App() {\n",
    "  return (\n",
    "    <div>\n",
    "      <Greeting name=\"World\" />\n",
    "    </div>\n",
    "  );\n",
    "}\n",
    "\n",
    "export default App;"
   ]
  },
  {
   "cell_type": "markdown",
   "metadata": {},
   "source": [
    "\n",
    "\n",
    "In this example:\n",
    "- The `Greeting` component uses JSX to return an `h1` element.\n",
    "- The `App` component uses JSX to include the `Greeting` component and pass a `name` prop to it.\n",
    "\n",
    "JSX makes it easier to visualize the structure of the UI and manage the components within a React application."
   ]
  },
  {
   "cell_type": "markdown",
   "metadata": {},
   "source": [
    "# What is the difference between Element and Component?"
   ]
  },
  {
   "cell_type": "markdown",
   "metadata": {},
   "source": [
    "In React, elements and components are fundamental concepts, but they serve different purposes and have distinct characteristics.\n",
    "\n",
    "### React Element:\n",
    "- **Definition**: A React element is a plain object describing what you want to appear on the screen. It is the smallest building block of React applications.\n",
    "- **Creation**: React elements are created using JSX or `React.createElement()`.\n",
    "- **Immutability**: Once created, elements are immutable. They represent the UI at a specific point in time.\n",
    "- **Rendering**: Elements are what React uses to build the virtual DOM and eventually render the UI.\n",
    "\n",
    "Example of a React Element:\n"
   ]
  },
  {
   "cell_type": "code",
   "execution_count": null,
   "metadata": {
    "vscode": {
     "languageId": "jsx"
    }
   },
   "outputs": [],
   "source": [
    "const element = <h1>Hello, world!</h1>;"
   ]
  },
  {
   "cell_type": "markdown",
   "metadata": {},
   "source": [
    "\n",
    "\n",
    "### React Component:\n",
    "- **Definition**: A React component is a function or class that optionally accepts input (props) and returns a React element describing what should appear on the screen.\n",
    "- **Types**: There are two types of components:\n",
    "  - **Functional Components**: These are JavaScript functions that return React elements.\n",
    "  - **Class Components**: These are ES6 classes that extend `React.Component` and have a `render` method that returns React elements.\n",
    "- **State and Lifecycle**: Components can manage their own state and lifecycle methods (in the case of class components) or use hooks (in the case of functional components).\n",
    "- **Reusability**: Components are reusable pieces of UI that can be composed to build complex interfaces.\n",
    "\n",
    "Example of a Functional Component:\n"
   ]
  },
  {
   "cell_type": "code",
   "execution_count": null,
   "metadata": {
    "vscode": {
     "languageId": "jsx"
    }
   },
   "outputs": [],
   "source": [
    "function Greeting(props) {\n",
    "  return <h1>Hello, {props.name}!</h1>;\n",
    "}"
   ]
  },
  {
   "cell_type": "markdown",
   "metadata": {},
   "source": [
    "\n",
    "\n",
    "Example of a Class Component:\n"
   ]
  },
  {
   "cell_type": "code",
   "execution_count": null,
   "metadata": {
    "vscode": {
     "languageId": "jsx"
    }
   },
   "outputs": [],
   "source": [
    "class Greeting extends React.Component {\n",
    "  render() {\n",
    "    return <h1>Hello, {this.props.name}!</h1>;\n",
    "  }\n",
    "}"
   ]
  },
  {
   "cell_type": "markdown",
   "metadata": {},
   "source": [
    "\n",
    "\n",
    "### Key Differences:\n",
    "- **Nature**: Elements are plain objects representing the UI, while components are functions or classes that return elements.\n",
    "- **Usage**: Elements are used to describe what you want to see on the screen, while components are used to encapsulate and manage the logic and structure of the UI.\n",
    "- **State and Lifecycle**: Components can have state and lifecycle methods, whereas elements are immutable and stateless.\n",
    "\n",
    "In summary, React elements are the building blocks of the UI, and components are the constructs that manage and render these elements."
   ]
  },
  {
   "cell_type": "markdown",
   "metadata": {},
   "source": [
    "# How to create components in React?"
   ]
  },
  {
   "cell_type": "markdown",
   "metadata": {},
   "source": [
    "In React, you can create components using either functional components or class components. Here’s how to create both types:\n",
    "\n",
    "### Functional Components\n",
    "Functional components are simpler and are defined as JavaScript functions. They can accept props as an argument and return React elements.\n",
    "\n",
    "#### Example:\n"
   ]
  },
  {
   "cell_type": "code",
   "execution_count": null,
   "metadata": {
    "vscode": {
     "languageId": "jsx"
    }
   },
   "outputs": [],
   "source": [
    "import React from 'react';\n",
    "\n",
    "function Greeting(props) {\n",
    "  return <h1>Hello, {props.name}!</h1>;\n",
    "}\n",
    "\n",
    "export default Greeting;"
   ]
  },
  {
   "cell_type": "markdown",
   "metadata": {},
   "source": [
    "\n",
    "\n",
    "### Class Components\n",
    "Class components are ES6 classes that extend `React.Component`. They must have a `render` method that returns React elements.\n",
    "\n",
    "#### Example:\n"
   ]
  },
  {
   "cell_type": "code",
   "execution_count": null,
   "metadata": {
    "vscode": {
     "languageId": "jsx"
    }
   },
   "outputs": [],
   "source": [
    "import React, { Component } from 'react';\n",
    "\n",
    "class Greeting extends Component {\n",
    "  render() {\n",
    "    return <h1>Hello, {this.props.name}!</h1>;\n",
    "  }\n",
    "}\n",
    "\n",
    "export default Greeting;"
   ]
  },
  {
   "cell_type": "markdown",
   "metadata": {},
   "source": [
    "\n",
    "\n",
    "### Using the Components\n",
    "Once you have created a component, you can use it in other components or in your main application file.\n",
    "\n",
    "#### Example:\n"
   ]
  },
  {
   "cell_type": "code",
   "execution_count": null,
   "metadata": {
    "vscode": {
     "languageId": "jsx"
    }
   },
   "outputs": [],
   "source": [
    "import React from 'react';\n",
    "import ReactDOM from 'react-dom';\n",
    "import Greeting from './Greeting'; // Import the Greeting component\n",
    "\n",
    "function App() {\n",
    "  return (\n",
    "    <div>\n",
    "      <Greeting name=\"World\" />\n",
    "      <Greeting name=\"React\" />\n",
    "    </div>\n",
    "  );\n",
    "}\n",
    "\n",
    "ReactDOM.render(<App />, document.getElementById('root'));"
   ]
  },
  {
   "cell_type": "markdown",
   "metadata": {},
   "source": [
    "\n",
    "\n",
    "### Key Points:\n",
    "- **Functional Components**: Use these for simpler components that do not need state or lifecycle methods. They can use hooks to manage state and side effects.\n",
    "- **Class Components**: Use these if you need to manage state or use lifecycle methods, although hooks in functional components can often replace the need for class components.\n",
    "\n",
    "### Hooks in Functional Components\n",
    "With the introduction of hooks in React 16.8, you can manage state and side effects in functional components.\n",
    "\n",
    "#### Example with Hooks:\n"
   ]
  },
  {
   "cell_type": "code",
   "execution_count": null,
   "metadata": {
    "vscode": {
     "languageId": "jsx"
    }
   },
   "outputs": [],
   "source": [
    "import React, { useState } from 'react';\n",
    "\n",
    "function Counter() {\n",
    "  const [count, setCount] = useState(0);\n",
    "\n",
    "  return (\n",
    "    <div>\n",
    "      <p>You clicked {count} times</p>\n",
    "      <button onClick={() => setCount(count + 1)}>\n",
    "        Click me\n",
    "      </button>\n",
    "    </div>\n",
    "  );\n",
    "}\n",
    "\n",
    "export default Counter;"
   ]
  },
  {
   "cell_type": "markdown",
   "metadata": {},
   "source": [
    "\n",
    "\n",
    "This example demonstrates how to use the `useState` hook to manage state in a functional component.\n",
    "\n",
    "By using these methods, you can create and manage components in React to build complex and interactive user interfaces."
   ]
  },
  {
   "cell_type": "markdown",
   "metadata": {},
   "source": [
    "# When to use a Class Component over a Function Component?"
   ]
  },
  {
   "cell_type": "markdown",
   "metadata": {},
   "source": [
    "With the introduction of hooks in React 16.8, functional components have become more powerful and can handle most use cases that previously required class components. However, there are still some scenarios where you might consider using class components:\n",
    "\n",
    "### When to Use Class Components:\n",
    "1. **Legacy Code**: If you are working on a codebase that predominantly uses class components, it might be more consistent to continue using them.\n",
    "2. **Lifecycle Methods**: If you need to use lifecycle methods like `componentDidMount`, `componentDidUpdate`, or `componentWillUnmount`, class components provide a straightforward way to do so. However, hooks like `useEffect` can often replace these lifecycle methods in functional components.\n",
    "3. **Error Boundaries**: As of now, error boundaries can only be implemented using class components. Error boundaries are components that catch JavaScript errors anywhere in their child component tree, log those errors, and display a fallback UI.\n",
    "\n",
    "### Example of Error Boundary in Class Component:\n"
   ]
  },
  {
   "cell_type": "code",
   "execution_count": null,
   "metadata": {
    "vscode": {
     "languageId": "jsx"
    }
   },
   "outputs": [],
   "source": [
    "import React, { Component } from 'react';\n",
    "\n",
    "class ErrorBoundary extends Component {\n",
    "  constructor(props) {\n",
    "    super(props);\n",
    "    this.state = { hasError: false };\n",
    "  }\n",
    "\n",
    "  static getDerivedStateFromError(error) {\n",
    "    return { hasError: true };\n",
    "  }\n",
    "\n",
    "  componentDidCatch(error, info) {\n",
    "    // You can also log the error to an error reporting service\n",
    "    console.error(error, info);\n",
    "  }\n",
    "\n",
    "  render() {\n",
    "    if (this.state.hasError) {\n",
    "      return <h1>Something went wrong.</h1>;\n",
    "    }\n",
    "\n",
    "    return this.props.children;\n",
    "  }\n",
    "}\n",
    "\n",
    "export default ErrorBoundary;"
   ]
  },
  {
   "cell_type": "markdown",
   "metadata": {},
   "source": [
    "\n",
    "\n",
    "### When to Use Functional Components:\n",
    "1. **Simplicity**: Functional components are simpler and easier to read and write, especially for components that do not require state or lifecycle methods.\n",
    "2. **Hooks**: With hooks, functional components can manage state, side effects, context, refs, and more, making them very powerful and flexible.\n",
    "3. **Performance**: Functional components can be more performant because they are simpler and do not have the overhead of class components.\n",
    "\n",
    "### Example of Functional Component with Hooks:\n"
   ]
  },
  {
   "cell_type": "code",
   "execution_count": null,
   "metadata": {
    "vscode": {
     "languageId": "jsx"
    }
   },
   "outputs": [],
   "source": [
    "import React, { useState, useEffect } from 'react';\n",
    "\n",
    "function Counter() {\n",
    "  const [count, setCount] = useState(0);\n",
    "\n",
    "  useEffect(() => {\n",
    "    document.title = `You clicked ${count} times`;\n",
    "  }, [count]);\n",
    "\n",
    "  return (\n",
    "    <div>\n",
    "      <p>You clicked {count} times</p>\n",
    "      <button onClick={() => setCount(count + 1)}>\n",
    "        Click me\n",
    "      </button>\n",
    "    </div>\n",
    "  );\n",
    "}\n",
    "\n",
    "export default Counter;"
   ]
  },
  {
   "cell_type": "markdown",
   "metadata": {},
   "source": [
    "\n",
    "\n",
    "### Conclusion:\n",
    "- **Prefer Functional Components**: Use functional components for most new development, leveraging hooks for state and side effects.\n",
    "- **Use Class Components**: Consider class components for legacy code, when you need lifecycle methods in a more traditional way, or when implementing error boundaries.\n",
    "\n",
    "By understanding the strengths and use cases for both types of components, you can make informed decisions on which to use in your React applications."
   ]
  },
  {
   "cell_type": "markdown",
   "metadata": {},
   "source": [
    "# What are Pure Components?"
   ]
  },
  {
   "cell_type": "markdown",
   "metadata": {},
   "source": [
    "In React, a Pure Component is a type of component that implements a shallow comparison of props and state to determine if a re-render is necessary. This can help improve performance by preventing unnecessary renders.\n",
    "\n",
    "### Key Features of Pure Components:\n",
    "1. **Shallow Comparison**: Pure components perform a shallow comparison of the current and next props and state. If there are no changes, the component will not re-render.\n",
    "2. **Performance Optimization**: By avoiding unnecessary renders, pure components can improve the performance of your application, especially for components that receive frequently changing props or state.\n",
    "\n",
    "### Creating Pure Components:\n",
    "You can create a pure component by extending `React.PureComponent` instead of `React.Component`.\n",
    "\n",
    "### Example:\n"
   ]
  },
  {
   "cell_type": "code",
   "execution_count": null,
   "metadata": {
    "vscode": {
     "languageId": "jsx"
    }
   },
   "outputs": [],
   "source": [
    "import React, { PureComponent } from 'react';\n",
    "\n",
    "class Greeting extends PureComponent {\n",
    "  render() {\n",
    "    return <h1>Hello, {this.props.name}!</h1>;\n",
    "  }\n",
    "}\n",
    "\n",
    "export default Greeting;"
   ]
  },
  {
   "cell_type": "markdown",
   "metadata": {},
   "source": [
    "\n",
    "\n",
    "### Functional Component Equivalent:\n",
    "For functional components, you can achieve similar behavior using `React.memo`, which is a higher-order component that memoizes the result.\n",
    "\n",
    "### Example with `React.memo`:\n"
   ]
  },
  {
   "cell_type": "code",
   "execution_count": null,
   "metadata": {
    "vscode": {
     "languageId": "jsx"
    }
   },
   "outputs": [],
   "source": [
    "import React from 'react';\n",
    "\n",
    "const Greeting = React.memo(function Greeting(props) {\n",
    "  return <h1>Hello, {props.name}!</h1>;\n",
    "});\n",
    "\n",
    "export default Greeting;"
   ]
  },
  {
   "cell_type": "markdown",
   "metadata": {},
   "source": [
    "\n",
    "\n",
    "### When to Use Pure Components:\n",
    "1. **Performance Optimization**: Use pure components when you want to optimize performance by preventing unnecessary re-renders.\n",
    "2. **Stable Props and State**: Ensure that the props and state passed to the component are stable and do not change frequently in a way that shallow comparison might miss.\n",
    "\n",
    "### Shallow Comparison:\n",
    "- **Objects and Arrays**: Be cautious with objects and arrays, as shallow comparison only checks for reference equality, not deep equality. If the contents of an object or array change but the reference remains the same, the pure component will not detect the change.\n",
    "\n",
    "### Example of Shallow Comparison Issue:\n"
   ]
  },
  {
   "cell_type": "code",
   "execution_count": null,
   "metadata": {
    "vscode": {
     "languageId": "jsx"
    }
   },
   "outputs": [],
   "source": [
    "import React, { PureComponent } from 'react';\n",
    "\n",
    "class List extends PureComponent {\n",
    "  render() {\n",
    "    return (\n",
    "      <ul>\n",
    "        {this.props.items.map(item => (\n",
    "          <li key={item.id}>{item.name}</li>\n",
    "        ))}\n",
    "      </ul>\n",
    "    );\n",
    "  }\n",
    "}\n",
    "\n",
    "export default List;"
   ]
  },
  {
   "cell_type": "markdown",
   "metadata": {},
   "source": [
    "In this example, if `this.props.items` is a new array with the same contents, the `List` component will re-render because the shallow comparison detects a new reference.\n",
    "\n",
    "### Conclusion:\n",
    "- **Use Pure Components**: When you want to optimize performance and your props and state are stable.\n",
    "- **Use `React.memo`**: For functional components to achieve similar optimization.\n",
    "\n",
    "By understanding and using pure components appropriately, you can improve the performance of your React applications."
   ]
  },
  {
   "cell_type": "markdown",
   "metadata": {},
   "source": [
    "# What is state in React?"
   ]
  },
  {
   "cell_type": "markdown",
   "metadata": {},
   "source": [
    "In React, state is an object that holds information that may change over the lifetime of a component. State is managed within the component and can be updated using the `setState` method in class components or the `useState` hook in functional components. When the state changes, React re-renders the component to reflect the new state.\n",
    "\n",
    "### Key Characteristics of State:\n",
    "1. **Local to the Component**: State is local to the component and cannot be accessed or modified directly by other components.\n",
    "2. **Dynamic**: State can change over time, usually in response to user actions or other events.\n",
    "3. **Triggers Re-render**: When the state changes, React re-renders the component to reflect the new state.\n",
    "\n",
    "### Managing State in Class Components:\n",
    "In class components, state is typically initialized in the constructor and updated using the `setState` method.\n",
    "\n",
    "#### Example:\n"
   ]
  },
  {
   "cell_type": "code",
   "execution_count": null,
   "metadata": {
    "vscode": {
     "languageId": "jsx"
    }
   },
   "outputs": [],
   "source": [
    "import React, { Component } from 'react';\n",
    "\n",
    "class Counter extends Component {\n",
    "  constructor(props) {\n",
    "    super(props);\n",
    "    this.state = { count: 0 };\n",
    "  }\n",
    "\n",
    "  increment = () => {\n",
    "    this.setState({ count: this.state.count + 1 });\n",
    "  };\n",
    "\n",
    "  render() {\n",
    "    return (\n",
    "      <div>\n",
    "        <p>Count: {this.state.count}</p>\n",
    "        <button onClick={this.increment}>Increment</button>\n",
    "      </div>\n",
    "    );\n",
    "  }\n",
    "}\n",
    "\n",
    "export default Counter;"
   ]
  },
  {
   "cell_type": "markdown",
   "metadata": {},
   "source": [
    "\n",
    "\n",
    "### Managing State in Functional Components:\n",
    "In functional components, state is managed using the `useState` hook.\n",
    "\n",
    "#### Example:\n"
   ]
  },
  {
   "cell_type": "code",
   "execution_count": null,
   "metadata": {
    "vscode": {
     "languageId": "jsx"
    }
   },
   "outputs": [],
   "source": [
    "import React, { useState } from 'react';\n",
    "\n",
    "function Counter() {\n",
    "  const [count, setCount] = useState(0);\n",
    "\n",
    "  const increment = () => {\n",
    "    setCount(count + 1);\n",
    "  };\n",
    "\n",
    "  return (\n",
    "    <div>\n",
    "      <p>Count: {count}</p>\n",
    "      <button onClick={increment}>Increment</button>\n",
    "    </div>\n",
    "  );\n",
    "}\n",
    "\n",
    "export default Counter;"
   ]
  },
  {
   "cell_type": "markdown",
   "metadata": {},
   "source": [
    "\n",
    "\n",
    "### Key Points:\n",
    "- **Initialization**: State is initialized in the constructor for class components or using the `useState` hook for functional components.\n",
    "- **Updating State**: Use `setState` in class components and the updater function from `useState` in functional components to update the state.\n",
    "- **Re-rendering**: When state changes, React automatically re-renders the component to reflect the new state.\n",
    "\n",
    "### Example of State Usage:\n"
   ]
  },
  {
   "cell_type": "code",
   "execution_count": null,
   "metadata": {
    "vscode": {
     "languageId": "jsx"
    }
   },
   "outputs": [],
   "source": [
    "import React, { useState } from 'react';\n",
    "\n",
    "function Toggle() {\n",
    "  const [isOn, setIsOn] = useState(false);\n",
    "\n",
    "  const toggle = () => {\n",
    "    setIsOn(!isOn);\n",
    "  };\n",
    "\n",
    "  return (\n",
    "    <div>\n",
    "      <p>The switch is {isOn ? 'ON' : 'OFF'}</p>\n",
    "      <button onClick={toggle}>Toggle</button>\n",
    "    </div>\n",
    "  );\n",
    "}\n",
    "\n",
    "export default Toggle;"
   ]
  },
  {
   "cell_type": "markdown",
   "metadata": {},
   "source": [
    "\n",
    "\n",
    "In this example, the `Toggle` component uses state to keep track of whether a switch is on or off. The state is updated using the `setIsOn` function, and the component re-renders to reflect the new state.\n",
    "\n",
    "By understanding and managing state effectively, you can create dynamic and interactive user interfaces in React."
   ]
  },
  {
   "cell_type": "markdown",
   "metadata": {},
   "source": [
    "# What are props in React?"
   ]
  },
  {
   "cell_type": "markdown",
   "metadata": {},
   "source": [
    "In React, props (short for \"properties\") are a mechanism for passing data from a parent component to a child component. Props are read-only and are used to configure a component with external data or behavior. They allow components to be reusable and dynamic by enabling them to receive different inputs.\n",
    "\n",
    "### Key Characteristics of Props:\n",
    "1. **Read-Only**: Props are immutable and cannot be modified by the receiving component.\n",
    "2. **Passed from Parent to Child**: Props are passed from a parent component to a child component.\n",
    "3. **Dynamic**: Props can be used to pass dynamic data to components, making them more flexible and reusable.\n",
    "\n",
    "### Using Props in Functional Components:\n",
    "In functional components, props are received as an argument to the function.\n",
    "\n",
    "#### Example:\n"
   ]
  },
  {
   "cell_type": "code",
   "execution_count": null,
   "metadata": {
    "vscode": {
     "languageId": "jsx"
    }
   },
   "outputs": [],
   "source": [
    "import React from 'react';\n",
    "\n",
    "function Greeting(props) {\n",
    "  return <h1>Hello, {props.name}!</h1>;\n",
    "}\n",
    "\n",
    "export default Greeting;"
   ]
  },
  {
   "cell_type": "markdown",
   "metadata": {},
   "source": [
    "\n",
    "\n",
    "### Using Props in Class Components:\n",
    "In class components, props are accessed via `this.props`.\n",
    "\n",
    "#### Example:\n"
   ]
  },
  {
   "cell_type": "code",
   "execution_count": null,
   "metadata": {
    "vscode": {
     "languageId": "jsx"
    }
   },
   "outputs": [],
   "source": [
    "import React, { Component } from 'react';\n",
    "\n",
    "class Greeting extends Component {\n",
    "  render() {\n",
    "    return <h1>Hello, {this.props.name}!</h1>;\n",
    "  }\n",
    "}\n",
    "\n",
    "export default Greeting;"
   ]
  },
  {
   "cell_type": "markdown",
   "metadata": {},
   "source": [
    "\n",
    "\n",
    "### Passing Props to Components:\n",
    "Props are passed to components as attributes in JSX.\n",
    "\n",
    "#### Example:\n"
   ]
  },
  {
   "cell_type": "code",
   "execution_count": null,
   "metadata": {
    "vscode": {
     "languageId": "jsx"
    }
   },
   "outputs": [],
   "source": [
    "import React from 'react';\n",
    "import ReactDOM from 'react-dom';\n",
    "import Greeting from './Greeting'; // Import the Greeting component\n",
    "\n",
    "function App() {\n",
    "  return (\n",
    "    <div>\n",
    "      <Greeting name=\"World\" />\n",
    "      <Greeting name=\"React\" />\n",
    "    </div>\n",
    "  );\n",
    "}\n",
    "\n",
    "ReactDOM.render(<App />, document.getElementById('root'));"
   ]
  },
  {
   "cell_type": "markdown",
   "metadata": {},
   "source": [
    "\n",
    "\n",
    "### Default Props:\n",
    "You can define default props for a component to ensure it has default values if no props are provided.\n",
    "\n",
    "#### Example with Functional Component:\n"
   ]
  },
  {
   "cell_type": "code",
   "execution_count": null,
   "metadata": {
    "vscode": {
     "languageId": "jsx"
    }
   },
   "outputs": [],
   "source": [
    "import React from 'react';\n",
    "\n",
    "function Greeting(props) {\n",
    "  return <h1>Hello, {props.name}!</h1>;\n",
    "}\n",
    "\n",
    "Greeting.defaultProps = {\n",
    "  name: 'Guest',\n",
    "};\n",
    "\n",
    "export default Greeting;"
   ]
  },
  {
   "cell_type": "markdown",
   "metadata": {},
   "source": [
    "\n",
    "\n",
    "#### Example with Class Component:\n"
   ]
  },
  {
   "cell_type": "code",
   "execution_count": null,
   "metadata": {
    "vscode": {
     "languageId": "jsx"
    }
   },
   "outputs": [],
   "source": [
    "import React, { Component } from 'react';\n",
    "\n",
    "class Greeting extends Component {\n",
    "  render() {\n",
    "    return <h1>Hello, {this.props.name}!</h1>;\n",
    "  }\n",
    "}\n",
    "\n",
    "Greeting.defaultProps = {\n",
    "  name: 'Guest',\n",
    "};\n",
    "\n",
    "export default Greeting;\n",
    "\n",
    "\n",
    "``\n",
    "\n",
    "`\n",
    "\n",
    "### Prop Types:\n",
    "You can use `prop-types` to enforce type checking on props, ensuring that components receive the correct types of props.\n",
    "\n",
    "#### Example:\n",
    "```jsx\n",
    "import React from 'react';\n",
    "import PropTypes from 'prop-types';\n",
    "\n",
    "function Greeting(props) {\n",
    "  return <h1>Hello, {props.name}!</h1>;\n",
    "}\n",
    "\n",
    "Greeting.propTypes = {\n",
    "  name: PropTypes.string,\n",
    "};\n",
    "\n",
    "export default Greeting;"
   ]
  },
  {
   "cell_type": "markdown",
   "metadata": {},
   "source": [
    "\n",
    "\n",
    "### Key Points:\n",
    "- **Props are Immutable**: They cannot be modified by the child component.\n",
    "- **Passed from Parent to Child**: Props are used to pass data and behavior from parent to child components.\n",
    "- **Default Props and Prop Types**: You can define default props and use `prop-types` for type checking.\n",
    "\n",
    "By using props effectively, you can create flexible and reusable components in React."
   ]
  }
 ],
 "metadata": {
  "language_info": {
   "name": "python"
  }
 },
 "nbformat": 4,
 "nbformat_minor": 2
}
